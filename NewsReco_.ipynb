{
  "nbformat": 4,
  "nbformat_minor": 0,
  "metadata": {
    "colab": {
      "provenance": []
    },
    "kernelspec": {
      "name": "python3",
      "display_name": "Python 3"
    },
    "language_info": {
      "name": "python"
    },
    "gpuClass": "standard"
  },
  "cells": [
    {
      "cell_type": "code",
      "source": [
        "from google.colab import drive\n",
        "drive.mount('/content/drive')"
      ],
      "metadata": {
        "id": "6rHqGhNT6oaI"
      },
      "execution_count": null,
      "outputs": []
    },
    {
      "cell_type": "code",
      "source": [
        "import os\n",
        "os.chdir('/content/drive/Shareddrives/Testing NLP')"
      ],
      "metadata": {
        "id": "9-3HT83MTeOW"
      },
      "execution_count": null,
      "outputs": []
    },
    {
      "cell_type": "code",
      "execution_count": null,
      "metadata": {
        "id": "ZQCg4kVlbsgG"
      },
      "outputs": [],
      "source": [
        "!git clone https://github.com/pnkjwrk3/news-miner"
      ]
    },
    {
      "cell_type": "code",
      "source": [
        "! mkdir '/content/drive/Shareddrives/Testing NLP/news-miner/data'"
      ],
      "metadata": {
        "id": "4n_fM32UTjjW"
      },
      "execution_count": null,
      "outputs": []
    },
    {
      "cell_type": "code",
      "source": [
        "import os\n",
        "os.chdir('/content/drive/Shareddrives/Testing NLP/news-miner/data')"
      ],
      "metadata": {
        "id": "QK7X4poeGUDK"
      },
      "execution_count": null,
      "outputs": []
    },
    {
      "cell_type": "code",
      "source": [
        "! wget https://nlp.stanford.edu/data/glove.840B.300d.zip\n",
        "!unzip glove.840B.300d.zip -d glove\n",
        "!rm glove.840B.300d.zip\n"
      ],
      "metadata": {
        "id": "4xRBZCJrGm8t"
      },
      "execution_count": null,
      "outputs": []
    },
    {
      "cell_type": "code",
      "source": [
        "!wget https://mind201910small.blob.core.windows.net/release/MINDsmall_train.zip https://mind201910small.blob.core.windows.net/release/MINDsmall_dev.zip\n",
        "!unzip MINDsmall_train.zip -d train\n",
        "!unzip MINDsmall_dev.zip -d val\n",
        "!cp -r val test # MIND Small has no test set :)\n",
        "!rm MINDsmall_*.zip"
      ],
      "metadata": {
        "id": "ZyDsGiJ_IWMw"
      },
      "execution_count": null,
      "outputs": []
    },
    {
      "cell_type": "code",
      "source": [
        "import os\n",
        "os.chdir('/content/drive/Shareddrives/Testing NLP/news-miner')"
      ],
      "metadata": {
        "id": "eDbVJ_wCIdzV"
      },
      "execution_count": null,
      "outputs": []
    },
    {
      "cell_type": "code",
      "source": [
        "! pip install -r 'requirements.txt'"
      ],
      "metadata": {
        "id": "7H44d-qJI9a2"
      },
      "execution_count": null,
      "outputs": []
    },
    {
      "cell_type": "code",
      "source": [
        "import nltk\n",
        "nltk.download('punkt')"
      ],
      "metadata": {
        "id": "HAEiAHxqJat9"
      },
      "execution_count": null,
      "outputs": []
    },
    {
      "cell_type": "code",
      "source": [
        "! python3 src/data_preprocess.py"
      ],
      "metadata": {
        "id": "sz1ET7ClIuIB"
      },
      "execution_count": null,
      "outputs": []
    },
    {
      "cell_type": "code",
      "source": [
        "import os\n",
        "os.environ[\"MODEL_NAME\"] = \"NAML\""
      ],
      "metadata": {
        "id": "UyJoUCPCI68u"
      },
      "execution_count": null,
      "outputs": []
    },
    {
      "cell_type": "code",
      "source": [
        "print(os.environ[\"MODEL_NAME\"])"
      ],
      "metadata": {
        "id": "38Hqk6L9J8S2"
      },
      "execution_count": null,
      "outputs": []
    },
    {
      "cell_type": "code",
      "source": [
        "! pip install tensorrt tensorflow"
      ],
      "metadata": {
        "id": "0w9g65VjXhOm"
      },
      "execution_count": null,
      "outputs": []
    },
    {
      "cell_type": "code",
      "source": [
        "! python3 src/train.py"
      ],
      "metadata": {
        "id": "ymLukaRAKjzj"
      },
      "execution_count": null,
      "outputs": []
    },
    {
      "cell_type": "code",
      "source": [
        "!python3 src/evaluate.py"
      ],
      "metadata": {
        "id": "8MSad988Kz4R"
      },
      "execution_count": null,
      "outputs": []
    },
    {
      "cell_type": "code",
      "source": [
        "import os\n",
        "os.environ[\"MODEL_NAME\"] = \"NRMS\""
      ],
      "metadata": {
        "id": "oJh86iunXPb8"
      },
      "execution_count": null,
      "outputs": []
    },
    {
      "cell_type": "code",
      "source": [
        "print(os.environ[\"MODEL_NAME\"])"
      ],
      "metadata": {
        "id": "ZWBQ8QyY0U81"
      },
      "execution_count": null,
      "outputs": []
    },
    {
      "cell_type": "code",
      "source": [
        "! python3 src/train.py"
      ],
      "metadata": {
        "id": "unJverMP0WCb"
      },
      "execution_count": null,
      "outputs": []
    },
    {
      "cell_type": "code",
      "source": [
        "! python3 src/evaluate.py"
      ],
      "metadata": {
        "id": "fMig0-jj0ZYl"
      },
      "execution_count": null,
      "outputs": []
    },
    {
      "cell_type": "code",
      "source": [],
      "metadata": {
        "id": "xFFJuU010aHu"
      },
      "execution_count": null,
      "outputs": []
    }
  ]
}